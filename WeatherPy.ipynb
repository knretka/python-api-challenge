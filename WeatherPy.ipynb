{
 "cells": [
  {
   "cell_type": "markdown",
   "metadata": {},
   "source": [
    "# WeatherPy\n",
    "----\n",
    "\n",
    "#### Observations & Analysis\n",
    "- There is no relationship between latitude and humidity level. \n",
    "- Highest maximum temperatures occurred between -20 and 20 latitude. Temperature decreases as you move further away from 0 latitude. This is also represented by the linear regression plots for both southern and northern hemisphere. \n",
    "- There is no relationship between latitude and cloudiness or latitude and wind speed\n"
   ]
  },
  {
   "cell_type": "code",
   "execution_count": 1,
   "metadata": {
    "scrolled": true
   },
   "outputs": [],
   "source": [
    "# Dependencies and Setup\n",
    "import matplotlib.pyplot as plt\n",
    "import pandas as pd\n",
    "import numpy as np\n",
    "import requests\n",
    "import time\n",
    "from scipy.stats import linregress\n",
    "\n",
    "# Import API key\n",
    "#from api_keys import weather_api_key\n",
    "weather_api_key = \"17ba8b3c6942b1a6938acf08cf8eb325\"\n",
    "\n",
    "# Incorporated citipy to determine city based on latitude and longitude\n",
    "from citipy import citipy\n",
    "\n",
    "# Output File (CSV)\n",
    "output_data_file = \"cities.csv\"\n",
    "\n",
    "# Range of latitudes and longitudes\n",
    "lat_range = (-90, 90)\n",
    "lng_range = (-180, 180)"
   ]
  },
  {
   "cell_type": "markdown",
   "metadata": {},
   "source": [
    "## Generate Cities List"
   ]
  },
  {
   "cell_type": "code",
   "execution_count": 2,
   "metadata": {},
   "outputs": [
    {
     "data": {
      "text/plain": [
       "606"
      ]
     },
     "execution_count": 2,
     "metadata": {},
     "output_type": "execute_result"
    }
   ],
   "source": [
    "# List for holding lat_lngs and cities\n",
    "lat_lngs = []\n",
    "cities = []\n",
    "\n",
    "# Create a set of random lat and lng combinations\n",
    "lats = np.random.uniform(lat_range[0], lat_range[1], size=1500)\n",
    "lngs = np.random.uniform(lng_range[0], lng_range[1], size=1500)\n",
    "lat_lngs = zip(lats, lngs)\n",
    "\n",
    "# Identify nearest city for each lat, lng combination\n",
    "for lat_lng in lat_lngs:\n",
    "    city = citipy.nearest_city(lat_lng[0], lat_lng[1]).city_name\n",
    "    \n",
    "    # If the city is unique, then add it to a our cities list\n",
    "    if city not in cities:\n",
    "        cities.append(city)\n",
    "\n",
    "# Print the city count to confirm sufficient count\n",
    "len(cities)"
   ]
  },
  {
   "cell_type": "markdown",
   "metadata": {},
   "source": [
    "### Perform API Calls\n",
    "* Perform a weather check on each city using a series of successive API calls.\n",
    "* Include a print log of each city as it'sbeing processed (with the city number and city name).\n"
   ]
  },
  {
   "cell_type": "code",
   "execution_count": 3,
   "metadata": {},
   "outputs": [
    {
     "name": "stdout",
     "output_type": "stream",
     "text": [
      "http://api.openweathermap.org/data/2.5/weather?appid=17ba8b3c6942b1a6938acf08cf8eb325&units=imperial&q=\n"
     ]
    }
   ],
   "source": [
    "api_key = weather_api_key\n",
    "units = 'imperial'\n",
    "\n",
    "query_url = f\"http://api.openweathermap.org/data/2.5/weather?appid={api_key}&units={units}&q=\"\n",
    "\n",
    "count_one = 0\n",
    "set_one = 0\n",
    "\n",
    "print(query_url)"
   ]
  },
  {
   "cell_type": "code",
   "execution_count": 4,
   "metadata": {},
   "outputs": [
    {
     "name": "stdout",
     "output_type": "stream",
     "text": [
      "Processing Record 1 of Set 1 | cherskiy\n",
      "Processing Record 2 of Set 1 | ushuaia\n",
      "Processing Record 3 of Set 1 | saint-augustin\n",
      "Processing Record 4 of Set 1 | mersin\n",
      "Processing Record 5 of Set 1 | mar del plata\n",
      "Processing Record 6 of Set 1 | carnarvon\n",
      "Processing Record 7 of Set 1 | linqiong\n",
      "Processing Record 8 of Set 1 | barrow\n",
      "City not found. Skipping...\n",
      "Processing Record 9 of Set 1 | gat\n",
      "City not found. Skipping...\n",
      "Processing Record 10 of Set 1 | hermanus\n",
      "City not found. Skipping...\n",
      "Processing Record 11 of Set 1 | kaitangata\n",
      "Processing Record 12 of Set 1 | rikitea\n",
      "Processing Record 13 of Set 1 | hilo\n",
      "Processing Record 14 of Set 1 | san quintin\n",
      "Processing Record 15 of Set 1 | hasaki\n",
      "City not found. Skipping...\n",
      "Processing Record 16 of Set 1 | saskylakh\n",
      "Processing Record 17 of Set 1 | dikson\n",
      "Processing Record 18 of Set 1 | punta arenas\n",
      "Processing Record 19 of Set 1 | alghero\n",
      "Processing Record 20 of Set 1 | busselton\n",
      "Processing Record 21 of Set 1 | esil\n",
      "Processing Record 22 of Set 1 | albany\n",
      "Processing Record 23 of Set 1 | hobart\n",
      "City not found. Skipping...\n",
      "Processing Record 24 of Set 1 | esperance\n",
      "Processing Record 25 of Set 1 | suntar\n",
      "Processing Record 26 of Set 1 | nizwa\n",
      "Processing Record 27 of Set 1 | porto velho\n",
      "Processing Record 28 of Set 1 | auchel\n",
      "City not found. Skipping...\n",
      "Processing Record 29 of Set 1 | lompoc\n",
      "Processing Record 30 of Set 1 | kapaa\n",
      "Processing Record 31 of Set 1 | jamestown\n",
      "Processing Record 32 of Set 1 | bluff\n",
      "Processing Record 33 of Set 1 | provideniya\n",
      "Processing Record 34 of Set 1 | ilulissat\n",
      "Processing Record 35 of Set 1 | belfast\n",
      "Processing Record 36 of Set 1 | umtata\n",
      "Processing Record 37 of Set 1 | port elizabeth\n",
      "Processing Record 38 of Set 1 | saldanha\n",
      "Processing Record 39 of Set 1 | puerto escondido\n",
      "Processing Record 40 of Set 1 | tocopilla\n",
      "Processing Record 41 of Set 1 | jetpur\n",
      "Processing Record 42 of Set 1 | yellowknife\n",
      "Processing Record 43 of Set 1 | port alfred\n",
      "Processing Record 44 of Set 1 | victoria\n",
      "Processing Record 45 of Set 1 | morondava\n",
      "Processing Record 46 of Set 1 | gabu\n",
      "City not found. Skipping...\n",
      "City not found. Skipping...\n",
      "Processing Record 47 of Set 1 | mahajanga\n",
      "Processing Record 48 of Set 1 | vaini\n",
      "Processing Record 49 of Set 1 | narasannapeta\n",
      "Processing Record 1 of Set 2 | igarka\n",
      "City not found. Skipping...\n",
      "Processing Record 2 of Set 2 | itarema\n",
      "City not found. Skipping...\n",
      "Processing Record 3 of Set 2 | pevek\n",
      "Processing Record 4 of Set 2 | hami\n",
      "Processing Record 5 of Set 2 | new norfolk\n",
      "Processing Record 6 of Set 2 | atuona\n",
      "Processing Record 7 of Set 2 | alekseyevsk\n",
      "Processing Record 8 of Set 2 | adrar\n",
      "Processing Record 9 of Set 2 | sorland\n",
      "Processing Record 10 of Set 2 | makakilo city\n",
      "Processing Record 11 of Set 2 | gilbues\n",
      "Processing Record 12 of Set 2 | lebu\n",
      "Processing Record 13 of Set 2 | kavieng\n",
      "Processing Record 14 of Set 2 | narsaq\n",
      "Processing Record 15 of Set 2 | naze\n",
      "Processing Record 16 of Set 2 | ucluelet\n",
      "Processing Record 17 of Set 2 | zamora\n",
      "City not found. Skipping...\n",
      "Processing Record 18 of Set 2 | norman wells\n",
      "Processing Record 19 of Set 2 | redmond\n",
      "Processing Record 20 of Set 2 | khartoum\n",
      "Processing Record 21 of Set 2 | qaanaaq\n",
      "Processing Record 22 of Set 2 | talnakh\n",
      "Processing Record 23 of Set 2 | ziyang\n",
      "Processing Record 24 of Set 2 | san patricio\n",
      "Processing Record 25 of Set 2 | khatanga\n",
      "Processing Record 26 of Set 2 | vao\n",
      "Processing Record 27 of Set 2 | saint-leu\n",
      "City not found. Skipping...\n",
      "City not found. Skipping...\n",
      "Processing Record 28 of Set 2 | cape town\n",
      "Processing Record 29 of Set 2 | bambous virieux\n",
      "Processing Record 30 of Set 2 | yulara\n",
      "Processing Record 31 of Set 2 | montepuez\n",
      "Processing Record 32 of Set 2 | szydlowiec\n",
      "Processing Record 33 of Set 2 | sinaloa\n",
      "City not found. Skipping...\n",
      "Processing Record 34 of Set 2 | inzer\n",
      "Processing Record 35 of Set 2 | tiarei\n",
      "Processing Record 36 of Set 2 | torbay\n",
      "Processing Record 37 of Set 2 | takoradi\n",
      "City not found. Skipping...\n",
      "Processing Record 38 of Set 2 | santa rosa\n",
      "Processing Record 39 of Set 2 | yeppoon\n",
      "Processing Record 40 of Set 2 | grand river south east\n",
      "Processing Record 41 of Set 2 | beloha\n",
      "Processing Record 42 of Set 2 | ribeira grande\n",
      "Processing Record 43 of Set 2 | atbasar\n",
      "Processing Record 44 of Set 2 | belaya gora\n",
      "Processing Record 45 of Set 2 | rawson\n",
      "Processing Record 46 of Set 2 | bredasdorp\n",
      "Processing Record 47 of Set 2 | avarua\n",
      "Processing Record 48 of Set 2 | mataura\n",
      "Processing Record 49 of Set 2 | touros\n",
      "Processing Record 1 of Set 3 | puro\n",
      "City not found. Skipping...\n",
      "Processing Record 2 of Set 3 | chapais\n",
      "Processing Record 3 of Set 3 | puerto ayora\n",
      "Processing Record 4 of Set 3 | ostrovnoy\n",
      "Processing Record 5 of Set 3 | tasiilaq\n",
      "Processing Record 6 of Set 3 | filadelfia\n",
      "Processing Record 7 of Set 3 | plettenberg bay\n",
      "Processing Record 8 of Set 3 | whitehorse\n",
      "Processing Record 9 of Set 3 | hithadhoo\n",
      "Processing Record 10 of Set 3 | cockburn town\n",
      "Processing Record 11 of Set 3 | pochutla\n",
      "Processing Record 12 of Set 3 | finschhafen\n",
      "Processing Record 13 of Set 3 | thompson\n",
      "Processing Record 14 of Set 3 | kahului\n",
      "Processing Record 15 of Set 3 | moerai\n",
      "Processing Record 16 of Set 3 | ixtapa\n",
      "Processing Record 17 of Set 3 | kruisfontein\n",
      "Processing Record 18 of Set 3 | sitka\n",
      "City not found. Skipping...\n",
      "Processing Record 19 of Set 3 | healdsburg\n",
      "Processing Record 20 of Set 3 | fortuna\n",
      "Processing Record 21 of Set 3 | ryazanskaya\n",
      "Processing Record 22 of Set 3 | lucapa\n",
      "City not found. Skipping...\n",
      "Processing Record 23 of Set 3 | camapua\n",
      "Processing Record 24 of Set 3 | salinopolis\n",
      "Processing Record 25 of Set 3 | lugovoy\n",
      "Processing Record 26 of Set 3 | labuhan\n",
      "Processing Record 27 of Set 3 | koslan\n",
      "Processing Record 28 of Set 3 | caucaia\n",
      "Processing Record 29 of Set 3 | skelleftea\n",
      "City not found. Skipping...\n",
      "Processing Record 30 of Set 3 | hirara\n",
      "Processing Record 31 of Set 3 | zabol\n",
      "Processing Record 32 of Set 3 | tura\n",
      "Processing Record 33 of Set 3 | biak\n",
      "Processing Record 34 of Set 3 | mys shmidta\n",
      "Processing Record 35 of Set 3 | taranagar\n",
      "Processing Record 36 of Set 3 | yerbogachen\n",
      "Processing Record 37 of Set 3 | lavrentiya\n",
      "Processing Record 38 of Set 3 | kampot\n",
      "City not found. Skipping...\n",
      "Processing Record 39 of Set 3 | tekkali\n",
      "Processing Record 40 of Set 3 | karratha\n",
      "Processing Record 41 of Set 3 | shelburne\n",
      "City not found. Skipping...\n",
      "Processing Record 42 of Set 3 | sao joao da barra\n",
      "Processing Record 43 of Set 3 | asosa\n",
      "Processing Record 44 of Set 3 | vila franca do campo\n",
      "Processing Record 45 of Set 3 | galesong\n",
      "City not found. Skipping...\n",
      "Processing Record 46 of Set 3 | faya\n",
      "Processing Record 47 of Set 3 | salem\n",
      "Processing Record 48 of Set 3 | gamba\n",
      "Processing Record 49 of Set 3 | kangaatsiaq\n",
      "Processing Record 1 of Set 4 | palmas bellas\n",
      "Processing Record 2 of Set 4 | hamilton\n",
      "Processing Record 3 of Set 4 | muroto\n",
      "City not found. Skipping...\n",
      "Processing Record 4 of Set 4 | wanning\n",
      "Processing Record 5 of Set 4 | togur\n",
      "Processing Record 6 of Set 4 | castro\n",
      "Processing Record 7 of Set 4 | kyabram\n",
      "Processing Record 8 of Set 4 | dodge city\n",
      "City not found. Skipping...\n",
      "Processing Record 9 of Set 4 | geneva\n",
      "Processing Record 10 of Set 4 | nikolskoye\n",
      "Processing Record 11 of Set 4 | prince rupert\n",
      "Processing Record 12 of Set 4 | katsuura\n",
      "Processing Record 13 of Set 4 | hay river\n",
      "Processing Record 14 of Set 4 | mandalgovi\n",
      "Processing Record 15 of Set 4 | vanavara\n",
      "Processing Record 16 of Set 4 | kanniyakumari\n",
      "Processing Record 17 of Set 4 | sarakhs\n",
      "Processing Record 18 of Set 4 | airai\n",
      "Processing Record 19 of Set 4 | lysychovo\n",
      "Processing Record 20 of Set 4 | abnub\n",
      "Processing Record 21 of Set 4 | longyearbyen\n",
      "Processing Record 22 of Set 4 | ust-tsilma\n",
      "Processing Record 23 of Set 4 | codrington\n",
      "Processing Record 24 of Set 4 | talaya\n",
      "Processing Record 25 of Set 4 | egvekinot\n",
      "Processing Record 26 of Set 4 | freeport\n",
      "City not found. Skipping...\n",
      "Processing Record 27 of Set 4 | kodiak\n",
      "Processing Record 28 of Set 4 | winnemucca\n",
      "Processing Record 29 of Set 4 | upernavik\n",
      "Processing Record 30 of Set 4 | souillac\n",
      "Processing Record 31 of Set 4 | basco\n",
      "Processing Record 32 of Set 4 | sri aman\n",
      "Processing Record 33 of Set 4 | tiznit\n",
      "Processing Record 34 of Set 4 | vila velha\n",
      "Processing Record 35 of Set 4 | pisco\n",
      "Processing Record 36 of Set 4 | butaritari\n",
      "Processing Record 37 of Set 4 | cayenne\n"
     ]
    },
    {
     "name": "stdout",
     "output_type": "stream",
     "text": [
      "Processing Record 38 of Set 4 | saint-philippe\n",
      "Processing Record 39 of Set 4 | tessalit\n",
      "Processing Record 40 of Set 4 | balkanabat\n",
      "Processing Record 41 of Set 4 | cabo san lucas\n",
      "Processing Record 42 of Set 4 | saint-joseph\n",
      "Processing Record 43 of Set 4 | bintulu\n",
      "Processing Record 44 of Set 4 | bereznik\n",
      "Processing Record 45 of Set 4 | jackson\n",
      "Processing Record 46 of Set 4 | tiksi\n",
      "Processing Record 47 of Set 4 | manavalakurichi\n",
      "Processing Record 48 of Set 4 | east london\n",
      "Processing Record 49 of Set 4 | vostok\n",
      "Processing Record 1 of Set 5 | port hedland\n",
      "Processing Record 2 of Set 5 | oranjemund\n",
      "Processing Record 3 of Set 5 | klyuchi\n",
      "Processing Record 4 of Set 5 | arraial do cabo\n",
      "Processing Record 5 of Set 5 | vanimo\n",
      "Processing Record 6 of Set 5 | chuy\n",
      "Processing Record 7 of Set 5 | ust-maya\n",
      "Processing Record 8 of Set 5 | brae\n",
      "Processing Record 9 of Set 5 | ponta do sol\n",
      "Processing Record 10 of Set 5 | nabire\n",
      "Processing Record 11 of Set 5 | vaitape\n",
      "Processing Record 12 of Set 5 | geraldton\n",
      "Processing Record 13 of Set 5 | georgetown\n",
      "Processing Record 14 of Set 5 | warrington\n",
      "Processing Record 15 of Set 5 | lata\n",
      "Processing Record 16 of Set 5 | sambava\n",
      "City not found. Skipping...\n",
      "Processing Record 17 of Set 5 | maroantsetra\n",
      "Processing Record 18 of Set 5 | chkalovsk\n",
      "Processing Record 19 of Set 5 | goderich\n",
      "Processing Record 20 of Set 5 | bubaque\n",
      "Processing Record 21 of Set 5 | haines junction\n",
      "Processing Record 22 of Set 5 | kuybyshevo\n",
      "Processing Record 23 of Set 5 | xining\n",
      "Processing Record 24 of Set 5 | punta alta\n",
      "Processing Record 25 of Set 5 | amiens\n",
      "Processing Record 26 of Set 5 | saint-georges\n",
      "City not found. Skipping...\n",
      "Processing Record 27 of Set 5 | kaputa\n",
      "Processing Record 28 of Set 5 | nanortalik\n",
      "Processing Record 29 of Set 5 | along\n",
      "Processing Record 30 of Set 5 | pangnirtung\n",
      "Processing Record 31 of Set 5 | grindavik\n",
      "Processing Record 32 of Set 5 | burgeo\n",
      "Processing Record 33 of Set 5 | leningradskiy\n",
      "Processing Record 34 of Set 5 | bethel\n",
      "Processing Record 35 of Set 5 | ponta delgada\n",
      "Processing Record 36 of Set 5 | praia da vitoria\n",
      "Processing Record 37 of Set 5 | kaeo\n",
      "Processing Record 38 of Set 5 | japura\n",
      "Processing Record 39 of Set 5 | tuktoyaktuk\n",
      "Processing Record 40 of Set 5 | ilawa\n",
      "Processing Record 41 of Set 5 | port lincoln\n",
      "Processing Record 42 of Set 5 | amuntai\n",
      "Processing Record 43 of Set 5 | sibut\n",
      "City not found. Skipping...\n",
      "Processing Record 44 of Set 5 | turayf\n",
      "Processing Record 45 of Set 5 | ugoofaaru\n",
      "Processing Record 46 of Set 5 | sola\n",
      "Processing Record 47 of Set 5 | nome\n",
      "Processing Record 48 of Set 5 | coquimbo\n",
      "Processing Record 49 of Set 5 | mao\n",
      "Processing Record 1 of Set 6 | veraval\n",
      "Processing Record 2 of Set 6 | blackwater\n",
      "Processing Record 3 of Set 6 | altay\n",
      "Processing Record 4 of Set 6 | kuching\n",
      "Processing Record 5 of Set 6 | catuday\n",
      "Processing Record 6 of Set 6 | bojnurd\n",
      "Processing Record 7 of Set 6 | faanui\n",
      "Processing Record 8 of Set 6 | barcelos\n",
      "Processing Record 9 of Set 6 | saint-pierre\n",
      "Processing Record 10 of Set 6 | loa janan\n",
      "Processing Record 11 of Set 6 | linkoping\n",
      "Processing Record 12 of Set 6 | flinders\n",
      "Processing Record 13 of Set 6 | lorengau\n",
      "Processing Record 14 of Set 6 | tabou\n",
      "Processing Record 15 of Set 6 | port-cartier\n",
      "Processing Record 16 of Set 6 | vila\n",
      "City not found. Skipping...\n",
      "Processing Record 17 of Set 6 | luanda\n",
      "Processing Record 18 of Set 6 | yar-sale\n",
      "Processing Record 19 of Set 6 | alyangula\n",
      "Processing Record 20 of Set 6 | hovd\n",
      "Processing Record 21 of Set 6 | sergeyevka\n",
      "Processing Record 22 of Set 6 | mbala\n",
      "Processing Record 23 of Set 6 | dawson creek\n",
      "Processing Record 24 of Set 6 | ngunguru\n",
      "Processing Record 25 of Set 6 | karachi\n",
      "Processing Record 26 of Set 6 | rantauprapat\n",
      "Processing Record 27 of Set 6 | daru\n",
      "Processing Record 28 of Set 6 | beipiao\n",
      "Processing Record 29 of Set 6 | klaksvik\n",
      "Processing Record 30 of Set 6 | presidente medici\n",
      "Processing Record 31 of Set 6 | chegdomyn\n",
      "Processing Record 32 of Set 6 | dafeng\n",
      "Processing Record 33 of Set 6 | laibin\n",
      "City not found. Skipping...\n",
      "City not found. Skipping...\n",
      "Processing Record 34 of Set 6 | lencois paulista\n",
      "Processing Record 35 of Set 6 | comodoro rivadavia\n",
      "City not found. Skipping...\n",
      "Processing Record 36 of Set 6 | jiamusi\n",
      "Processing Record 37 of Set 6 | rafaela\n",
      "Processing Record 38 of Set 6 | aksarka\n",
      "Processing Record 39 of Set 6 | olafsvik\n",
      "Processing Record 40 of Set 6 | severo-kurilsk\n",
      "Processing Record 41 of Set 6 | liepaja\n",
      "Processing Record 42 of Set 6 | vidim\n",
      "Processing Record 43 of Set 6 | mount isa\n",
      "Processing Record 44 of Set 6 | lazaro cardenas\n",
      "Processing Record 45 of Set 6 | aquiraz\n",
      "City not found. Skipping...\n",
      "Processing Record 46 of Set 6 | dehloran\n",
      "Processing Record 47 of Set 6 | kresttsy\n",
      "Processing Record 48 of Set 6 | isangel\n",
      "City not found. Skipping...\n",
      "Processing Record 49 of Set 6 | college\n",
      "Processing Record 1 of Set 7 | guaraniacu\n",
      "Processing Record 2 of Set 7 | buin\n",
      "Processing Record 3 of Set 7 | itoman\n",
      "Processing Record 4 of Set 7 | cartagena\n",
      "Processing Record 5 of Set 7 | baker city\n",
      "Processing Record 6 of Set 7 | marsabit\n",
      "Processing Record 7 of Set 7 | marystown\n",
      "Processing Record 8 of Set 7 | atasu\n",
      "Processing Record 9 of Set 7 | itanhaem\n",
      "Processing Record 10 of Set 7 | vallenar\n",
      "Processing Record 11 of Set 7 | bengkulu\n",
      "Processing Record 12 of Set 7 | gejiu\n",
      "Processing Record 13 of Set 7 | fenoarivo\n",
      "Processing Record 14 of Set 7 | hervey bay\n",
      "Processing Record 15 of Set 7 | hambantota\n",
      "City not found. Skipping...\n",
      "Processing Record 16 of Set 7 | merauke\n",
      "Processing Record 17 of Set 7 | moss vale\n",
      "Processing Record 18 of Set 7 | balezino\n",
      "Processing Record 19 of Set 7 | ulladulla\n",
      "Processing Record 20 of Set 7 | novobureyskiy\n",
      "Processing Record 21 of Set 7 | ruidoso\n",
      "Processing Record 22 of Set 7 | luderitz\n",
      "Processing Record 23 of Set 7 | lufilufi\n",
      "Processing Record 24 of Set 7 | aklavik\n",
      "Processing Record 25 of Set 7 | melfi\n",
      "City not found. Skipping...\n",
      "Processing Record 26 of Set 7 | gualaquiza\n",
      "Processing Record 27 of Set 7 | rexburg\n",
      "Processing Record 28 of Set 7 | noumea\n",
      "Processing Record 29 of Set 7 | ambilobe\n",
      "Processing Record 30 of Set 7 | escanaba\n",
      "Processing Record 31 of Set 7 | riyadh\n",
      "Processing Record 32 of Set 7 | beringovskiy\n",
      "Processing Record 33 of Set 7 | merta\n",
      "Processing Record 34 of Set 7 | ovalle\n",
      "Processing Record 35 of Set 7 | avera\n",
      "City not found. Skipping...\n",
      "Processing Record 36 of Set 7 | kem\n",
      "Processing Record 37 of Set 7 | lewisporte\n",
      "Processing Record 38 of Set 7 | qui nhon\n",
      "Processing Record 39 of Set 7 | kingman\n",
      "Processing Record 40 of Set 7 | yandyki\n",
      "Processing Record 41 of Set 7 | belmonte\n",
      "Processing Record 42 of Set 7 | cidreira\n",
      "Processing Record 43 of Set 7 | champerico\n",
      "Processing Record 44 of Set 7 | constitucion\n",
      "Processing Record 45 of Set 7 | harda\n",
      "Processing Record 46 of Set 7 | arman\n",
      "Processing Record 47 of Set 7 | soe\n",
      "Processing Record 48 of Set 7 | saiki\n",
      "Processing Record 49 of Set 7 | namatanai\n",
      "Processing Record 1 of Set 8 | hailin\n",
      "Processing Record 2 of Set 8 | rio gallegos\n",
      "Processing Record 3 of Set 8 | broome\n",
      "Processing Record 4 of Set 8 | petropavlovsk-kamchatskiy\n",
      "Processing Record 5 of Set 8 | coihaique\n",
      "Processing Record 6 of Set 8 | tuatapere\n",
      "City not found. Skipping...\n",
      "Processing Record 7 of Set 8 | namibe\n",
      "Processing Record 8 of Set 8 | ballina\n",
      "Processing Record 9 of Set 8 | sattahip\n",
      "City not found. Skipping...\n",
      "Processing Record 10 of Set 8 | hurricane\n",
      "Processing Record 11 of Set 8 | salym\n",
      "City not found. Skipping...\n",
      "Processing Record 12 of Set 8 | kieta\n",
      "Processing Record 13 of Set 8 | bhinmal\n",
      "Processing Record 14 of Set 8 | lagoa\n",
      "Processing Record 15 of Set 8 | russell\n",
      "Processing Record 16 of Set 8 | keti bandar\n",
      "City not found. Skipping...\n",
      "Processing Record 17 of Set 8 | agadir\n",
      "Processing Record 18 of Set 8 | vardo\n",
      "Processing Record 19 of Set 8 | kapit\n",
      "Processing Record 20 of Set 8 | tres arroyos\n",
      "Processing Record 21 of Set 8 | korla\n",
      "Processing Record 22 of Set 8 | chepen\n",
      "Processing Record 23 of Set 8 | lhokseumawe\n",
      "Processing Record 24 of Set 8 | araouane\n",
      "Processing Record 25 of Set 8 | aksu\n",
      "Processing Record 26 of Set 8 | wahiawa\n",
      "Processing Record 27 of Set 8 | fayaoue\n",
      "Processing Record 28 of Set 8 | richards bay\n",
      "Processing Record 29 of Set 8 | high level\n",
      "Processing Record 30 of Set 8 | kiunga\n"
     ]
    },
    {
     "name": "stdout",
     "output_type": "stream",
     "text": [
      "Processing Record 31 of Set 8 | sao filipe\n",
      "Processing Record 32 of Set 8 | letterkenny\n",
      "Processing Record 33 of Set 8 | north bend\n",
      "Processing Record 34 of Set 8 | joquicingo\n",
      "Processing Record 35 of Set 8 | chik\n",
      "Processing Record 36 of Set 8 | bonthe\n",
      "Processing Record 37 of Set 8 | grahamstown\n",
      "Processing Record 38 of Set 8 | mahebourg\n",
      "Processing Record 39 of Set 8 | sandpoint\n",
      "Processing Record 40 of Set 8 | laguna\n",
      "Processing Record 41 of Set 8 | fairbanks\n",
      "Processing Record 42 of Set 8 | iqaluit\n",
      "Processing Record 43 of Set 8 | glens falls\n",
      "City not found. Skipping...\n",
      "Processing Record 44 of Set 8 | port moresby\n",
      "Processing Record 45 of Set 8 | kondinskoye\n",
      "Processing Record 46 of Set 8 | anadyr\n",
      "Processing Record 47 of Set 8 | belen\n",
      "Processing Record 48 of Set 8 | jaisinghnagar\n",
      "Processing Record 49 of Set 8 | dezful\n",
      "Processing Record 1 of Set 9 | malbug\n",
      "Processing Record 2 of Set 9 | olga\n",
      "Processing Record 3 of Set 9 | dubbo\n",
      "Processing Record 4 of Set 9 | bukachacha\n",
      "Processing Record 5 of Set 9 | klyuchevskiy\n",
      "Processing Record 6 of Set 9 | oussouye\n",
      "City not found. Skipping...\n",
      "Processing Record 7 of Set 9 | north myrtle beach\n",
      "Processing Record 8 of Set 9 | yongchang\n",
      "Processing Record 9 of Set 9 | jurbarkas\n",
      "Processing Record 10 of Set 9 | pionerskiy\n",
      "Processing Record 11 of Set 9 | baghdad\n",
      "Processing Record 12 of Set 9 | manokwari\n",
      "Processing Record 13 of Set 9 | tamandare\n",
      "City not found. Skipping...\n",
      "City not found. Skipping...\n",
      "Processing Record 14 of Set 9 | seoul\n",
      "Processing Record 15 of Set 9 | matehuala\n",
      "Processing Record 16 of Set 9 | altamira\n",
      "Processing Record 17 of Set 9 | chkalovskoye\n",
      "Processing Record 18 of Set 9 | dudinka\n",
      "Processing Record 19 of Set 9 | langham\n",
      "Processing Record 20 of Set 9 | bara\n",
      "Processing Record 21 of Set 9 | illapel\n",
      "Processing Record 22 of Set 9 | graaff-reinet\n",
      "Processing Record 23 of Set 9 | avrille\n",
      "Processing Record 24 of Set 9 | kenai\n",
      "Processing Record 25 of Set 9 | chitral\n",
      "Processing Record 26 of Set 9 | clyde river\n",
      "Processing Record 27 of Set 9 | harper\n",
      "Processing Record 28 of Set 9 | gainesville\n",
      "Processing Record 29 of Set 9 | kinsale\n",
      "Processing Record 30 of Set 9 | chokurdakh\n",
      "Processing Record 31 of Set 9 | acapulco\n",
      "Processing Record 32 of Set 9 | havre-saint-pierre\n",
      "Processing Record 33 of Set 9 | tilichiki\n",
      "Processing Record 34 of Set 9 | brezice\n",
      "Processing Record 35 of Set 9 | tanah merah\n",
      "Processing Record 36 of Set 9 | najran\n",
      "Processing Record 37 of Set 9 | coahuayana\n",
      "Processing Record 38 of Set 9 | umba\n",
      "Processing Record 39 of Set 9 | komsomolskiy\n",
      "Processing Record 40 of Set 9 | stafa\n",
      "Processing Record 41 of Set 9 | durgapur\n",
      "City not found. Skipping...\n",
      "Processing Record 42 of Set 9 | nadym\n",
      "Processing Record 43 of Set 9 | srednekolymsk\n",
      "Processing Record 44 of Set 9 | salalah\n",
      "Processing Record 45 of Set 9 | mwene-ditu\n",
      "Processing Record 46 of Set 9 | port-gentil\n",
      "Processing Record 47 of Set 9 | shenjiamen\n",
      "Processing Record 48 of Set 9 | zunyi\n",
      "Processing Record 49 of Set 9 | port keats\n",
      "Processing Record 1 of Set 10 | bereda\n",
      "Processing Record 2 of Set 10 | ostrowiec swietokrzyski\n",
      "City not found. Skipping...\n",
      "Processing Record 3 of Set 10 | bathsheba\n",
      "Processing Record 4 of Set 10 | ghanzi\n",
      "Processing Record 5 of Set 10 | margate\n",
      "Processing Record 6 of Set 10 | esqueda\n",
      "Processing Record 7 of Set 10 | tacoronte\n",
      "Processing Record 8 of Set 10 | urengoy\n",
      "Processing Record 9 of Set 10 | papagaios\n",
      "Processing Record 10 of Set 10 | hinton\n",
      "City not found. Skipping...\n",
      "Processing Record 11 of Set 10 | mozarlandia\n",
      "Processing Record 12 of Set 10 | angoche\n",
      "Processing Record 13 of Set 10 | turiacu\n",
      "Processing Record 14 of Set 10 | mayo\n",
      "Processing Record 15 of Set 10 | kikwit\n",
      "Processing Record 16 of Set 10 | adre\n",
      "Processing Record 17 of Set 10 | ler\n",
      "Processing Record 18 of Set 10 | bataipora\n",
      "Processing Record 19 of Set 10 | martaban\n",
      "Processing Record 20 of Set 10 | sumter\n",
      "Processing Record 21 of Set 10 | fukue\n",
      "Processing Record 22 of Set 10 | porto santo\n",
      "Processing Record 23 of Set 10 | matay\n",
      "Processing Record 24 of Set 10 | manaure\n",
      "Processing Record 25 of Set 10 | port hardy\n",
      "Processing Record 26 of Set 10 | luganville\n",
      "Processing Record 27 of Set 10 | pakokku\n",
      "Processing Record 28 of Set 10 | neuquen\n",
      "Processing Record 29 of Set 10 | abbeville\n",
      "Processing Record 30 of Set 10 | yatou\n",
      "Processing Record 31 of Set 10 | marsa matruh\n",
      "Processing Record 32 of Set 10 | khadyzhensk\n",
      "Processing Record 33 of Set 10 | cabedelo\n",
      "Processing Record 34 of Set 10 | bandarbeyla\n",
      "Processing Record 35 of Set 10 | marsh harbour\n",
      "Processing Record 36 of Set 10 | chivilcoy\n",
      "Processing Record 37 of Set 10 | santa maria\n",
      "Processing Record 38 of Set 10 | laval\n",
      "Processing Record 39 of Set 10 | galle\n",
      "Processing Record 40 of Set 10 | sagone\n",
      "Processing Record 41 of Set 10 | coos bay\n",
      "Processing Record 42 of Set 10 | veseloyarsk\n",
      "Processing Record 43 of Set 10 | jalu\n",
      "Processing Record 44 of Set 10 | moron\n",
      "Processing Record 45 of Set 10 | minden\n",
      "Processing Record 46 of Set 10 | udachnyy\n",
      "City not found. Skipping...\n",
      "Processing Record 47 of Set 10 | flin flon\n",
      "Processing Record 48 of Set 10 | acari\n",
      "Processing Record 49 of Set 10 | jadu\n",
      "Processing Record 1 of Set 11 | puerto madryn\n",
      "Processing Record 2 of Set 11 | sarkand\n",
      "Processing Record 3 of Set 11 | llanes\n",
      "Processing Record 4 of Set 11 | mitu\n",
      "Processing Record 5 of Set 11 | camopi\n",
      "City not found. Skipping...\n",
      "Processing Record 6 of Set 11 | dingle\n",
      "Processing Record 7 of Set 11 | volchansk\n",
      "Processing Record 8 of Set 11 | tautira\n",
      "Processing Record 9 of Set 11 | chadiza\n",
      "Processing Record 10 of Set 11 | fort saint john\n",
      "Processing Record 11 of Set 11 | san andres\n",
      "Processing Record 12 of Set 11 | beira\n",
      "Processing Record 13 of Set 11 | batagay-alyta\n",
      "Processing Record 14 of Set 11 | mosalsk\n",
      "Processing Record 15 of Set 11 | banjar\n",
      "Processing Record 16 of Set 11 | kropotkin\n",
      "Processing Record 17 of Set 11 | khromtau\n",
      "Processing Record 18 of Set 11 | husavik\n",
      "Processing Record 19 of Set 11 | saint-marc\n",
      "Processing Record 20 of Set 11 | crab hill\n",
      "Processing Record 21 of Set 11 | majene\n",
      "Processing Record 22 of Set 11 | gorontalo\n",
      "Processing Record 23 of Set 11 | jamsa\n",
      "Processing Record 24 of Set 11 | stornoway\n",
      "Processing Record 25 of Set 11 | san lawrenz\n",
      "City not found. Skipping...\n",
      "Processing Record 26 of Set 11 | sorong\n",
      "Processing Record 27 of Set 11 | hastings\n",
      "Processing Record 28 of Set 11 | gayny\n",
      "City not found. Skipping...\n",
      "Processing Record 29 of Set 11 | sioux lookout\n",
      "Processing Record 30 of Set 11 | caxito\n",
      "Processing Record 31 of Set 11 | poum\n",
      "Processing Record 32 of Set 11 | khandyga\n",
      "City not found. Skipping...\n",
      "Processing Record 33 of Set 11 | atambua\n",
      "Processing Record 34 of Set 11 | marienburg\n",
      "Processing Record 35 of Set 11 | fort-shevchenko\n",
      "City not found. Skipping...\n",
      "Processing Record 36 of Set 11 | zyryanka\n",
      "Processing Record 37 of Set 11 | maldonado\n",
      "Processing Record 38 of Set 11 | chabahar\n",
      "Processing Record 39 of Set 11 | caravelas\n",
      "Processing Record 40 of Set 11 | askiz\n",
      "Processing Record 41 of Set 11 | ayan\n",
      "Processing Record 42 of Set 11 | cassilandia\n",
      "Processing Record 43 of Set 11 | mubende\n",
      "Processing Record 44 of Set 11 | oliver\n",
      "Processing Record 45 of Set 11 | matamoros\n",
      "Processing Record 46 of Set 11 | kashi\n",
      "Processing Record 47 of Set 11 | banda aceh\n",
      "Processing Record 48 of Set 11 | valdobbiadene\n",
      "Processing Record 49 of Set 11 | celestun\n",
      "Processing Record 1 of Set 12 | phek\n",
      "Processing Record 2 of Set 12 | luebo\n",
      "Processing Record 3 of Set 12 | nago\n",
      "Processing Record 4 of Set 12 | mackay\n",
      "Processing Record 5 of Set 12 | zeya\n",
      "Processing Record 6 of Set 12 | nigran\n",
      "Processing Record 7 of Set 12 | artesia\n",
      "Processing Record 8 of Set 12 | raudeberg\n",
      "Processing Record 9 of Set 12 | camacupa\n",
      "Processing Record 10 of Set 12 | tokur\n",
      "Processing Record 11 of Set 12 | rocha\n",
      "Processing Record 12 of Set 12 | ancud\n",
      "Processing Record 13 of Set 12 | lieksa\n",
      "------------------------------\n",
      "Data Retrieval Complete\n",
      "------------------------------\n"
     ]
    }
   ],
   "source": [
    "city_two = []\n",
    "cloudiness = []\n",
    "dates = []\n",
    "humidity = []\n",
    "lat = []\n",
    "lng = []\n",
    "max_temp = []\n",
    "wind_speed = []\n",
    "country = []\n",
    "\n",
    "count_one = 0\n",
    "set_one = 1\n",
    "\n",
    "for city in cities:\n",
    "    try:\n",
    "        response = requests.get(query_url + city.replace(\" \",\"&\")).json()\n",
    "        cloudiness.append(response['clouds']['all'])\n",
    "        country.append(response['sys']['country'])\n",
    "        dates.append(response['dt'])\n",
    "        humidity.append(response['main']['humidity'])\n",
    "        lat.append(response['coord']['lat'])\n",
    "        lng.append(response['coord']['lon'])\n",
    "        max_temp.append(response['main']['temp_max'])\n",
    "        wind_speed.append(response['wind']['speed'])\n",
    "        if count_one > 48:\n",
    "            count_one = 1\n",
    "            set_one += 1\n",
    "            city_two.append(city)\n",
    "        else:\n",
    "            count_one += 1\n",
    "            city_two.append(city)\n",
    "        print(f\"Processing Record {count_one} of Set {set_one} | {city}\")\n",
    "    except Exception:\n",
    "        print(\"City not found. Skipping...\")\n",
    "print(\"------------------------------\\nData Retrieval Complete\\n------------------------------\")"
   ]
  },
  {
   "cell_type": "markdown",
   "metadata": {},
   "source": [
    "### Convert Raw Data to DataFrame\n",
    "* Export the city data into a .csv.\n",
    "* Display the DataFrame"
   ]
  },
  {
   "cell_type": "code",
   "execution_count": 5,
   "metadata": {},
   "outputs": [],
   "source": [
    "weather_dict = {\n",
    "    \"City\": city_two,\n",
    "    \"Cloudiness\": cloudiness,\n",
    "    \"County\": country,\n",
    "    \"Date\": dates,\n",
    "    \"Humidity\": humidity,\n",
    "    \"Lat\": lat,\n",
    "    \"Lng\": lng,\n",
    "    \"Max Temp\": max_temp,\n",
    "    \"Wind Speed\": wind_speed\n",
    "}"
   ]
  },
  {
   "cell_type": "code",
   "execution_count": 6,
   "metadata": {},
   "outputs": [
    {
     "data": {
      "text/html": [
       "<div>\n",
       "<style scoped>\n",
       "    .dataframe tbody tr th:only-of-type {\n",
       "        vertical-align: middle;\n",
       "    }\n",
       "\n",
       "    .dataframe tbody tr th {\n",
       "        vertical-align: top;\n",
       "    }\n",
       "\n",
       "    .dataframe thead th {\n",
       "        text-align: right;\n",
       "    }\n",
       "</style>\n",
       "<table border=\"1\" class=\"dataframe\">\n",
       "  <thead>\n",
       "    <tr style=\"text-align: right;\">\n",
       "      <th></th>\n",
       "      <th>City</th>\n",
       "      <th>Cloudiness</th>\n",
       "      <th>County</th>\n",
       "      <th>Date</th>\n",
       "      <th>Humidity</th>\n",
       "      <th>Lat</th>\n",
       "      <th>Lng</th>\n",
       "      <th>Max Temp</th>\n",
       "      <th>Wind Speed</th>\n",
       "    </tr>\n",
       "  </thead>\n",
       "  <tbody>\n",
       "    <tr>\n",
       "      <th>0</th>\n",
       "      <td>cherskiy</td>\n",
       "      <td>82</td>\n",
       "      <td>RU</td>\n",
       "      <td>1586898155</td>\n",
       "      <td>95</td>\n",
       "      <td>68.75</td>\n",
       "      <td>161.30</td>\n",
       "      <td>8.13</td>\n",
       "      <td>10.25</td>\n",
       "    </tr>\n",
       "    <tr>\n",
       "      <th>1</th>\n",
       "      <td>ushuaia</td>\n",
       "      <td>40</td>\n",
       "      <td>AR</td>\n",
       "      <td>1586897973</td>\n",
       "      <td>70</td>\n",
       "      <td>-54.80</td>\n",
       "      <td>-68.30</td>\n",
       "      <td>48.20</td>\n",
       "      <td>5.70</td>\n",
       "    </tr>\n",
       "    <tr>\n",
       "      <th>2</th>\n",
       "      <td>saint-augustin</td>\n",
       "      <td>51</td>\n",
       "      <td>CA</td>\n",
       "      <td>1586898155</td>\n",
       "      <td>70</td>\n",
       "      <td>51.23</td>\n",
       "      <td>-58.65</td>\n",
       "      <td>40.03</td>\n",
       "      <td>18.37</td>\n",
       "    </tr>\n",
       "    <tr>\n",
       "      <th>3</th>\n",
       "      <td>mersin</td>\n",
       "      <td>1</td>\n",
       "      <td>TR</td>\n",
       "      <td>1586898156</td>\n",
       "      <td>71</td>\n",
       "      <td>36.86</td>\n",
       "      <td>34.65</td>\n",
       "      <td>57.20</td>\n",
       "      <td>3.62</td>\n",
       "    </tr>\n",
       "    <tr>\n",
       "      <th>4</th>\n",
       "      <td>mar del plata</td>\n",
       "      <td>3</td>\n",
       "      <td>ES</td>\n",
       "      <td>1586898156</td>\n",
       "      <td>82</td>\n",
       "      <td>43.40</td>\n",
       "      <td>-4.01</td>\n",
       "      <td>59.00</td>\n",
       "      <td>5.82</td>\n",
       "    </tr>\n",
       "    <tr>\n",
       "      <th>5</th>\n",
       "      <td>carnarvon</td>\n",
       "      <td>35</td>\n",
       "      <td>AU</td>\n",
       "      <td>1586898157</td>\n",
       "      <td>69</td>\n",
       "      <td>-24.87</td>\n",
       "      <td>113.63</td>\n",
       "      <td>73.40</td>\n",
       "      <td>17.22</td>\n",
       "    </tr>\n",
       "    <tr>\n",
       "      <th>6</th>\n",
       "      <td>linqiong</td>\n",
       "      <td>0</td>\n",
       "      <td>CN</td>\n",
       "      <td>1586898157</td>\n",
       "      <td>100</td>\n",
       "      <td>30.42</td>\n",
       "      <td>103.46</td>\n",
       "      <td>55.40</td>\n",
       "      <td>2.19</td>\n",
       "    </tr>\n",
       "    <tr>\n",
       "      <th>7</th>\n",
       "      <td>barrow</td>\n",
       "      <td>90</td>\n",
       "      <td>US</td>\n",
       "      <td>1586898157</td>\n",
       "      <td>85</td>\n",
       "      <td>71.29</td>\n",
       "      <td>-156.79</td>\n",
       "      <td>12.20</td>\n",
       "      <td>5.82</td>\n",
       "    </tr>\n",
       "    <tr>\n",
       "      <th>8</th>\n",
       "      <td>gat</td>\n",
       "      <td>40</td>\n",
       "      <td>IL</td>\n",
       "      <td>1586898102</td>\n",
       "      <td>82</td>\n",
       "      <td>31.61</td>\n",
       "      <td>34.76</td>\n",
       "      <td>64.40</td>\n",
       "      <td>2.24</td>\n",
       "    </tr>\n",
       "    <tr>\n",
       "      <th>9</th>\n",
       "      <td>hermanus</td>\n",
       "      <td>0</td>\n",
       "      <td>ZA</td>\n",
       "      <td>1586897871</td>\n",
       "      <td>92</td>\n",
       "      <td>-34.42</td>\n",
       "      <td>19.23</td>\n",
       "      <td>62.01</td>\n",
       "      <td>7.16</td>\n",
       "    </tr>\n",
       "    <tr>\n",
       "      <th>10</th>\n",
       "      <td>kaitangata</td>\n",
       "      <td>66</td>\n",
       "      <td>NZ</td>\n",
       "      <td>1586898159</td>\n",
       "      <td>79</td>\n",
       "      <td>-46.28</td>\n",
       "      <td>169.85</td>\n",
       "      <td>48.00</td>\n",
       "      <td>5.01</td>\n",
       "    </tr>\n",
       "    <tr>\n",
       "      <th>11</th>\n",
       "      <td>rikitea</td>\n",
       "      <td>74</td>\n",
       "      <td>PF</td>\n",
       "      <td>1586898159</td>\n",
       "      <td>65</td>\n",
       "      <td>-23.12</td>\n",
       "      <td>-134.97</td>\n",
       "      <td>76.44</td>\n",
       "      <td>6.76</td>\n",
       "    </tr>\n",
       "    <tr>\n",
       "      <th>12</th>\n",
       "      <td>hilo</td>\n",
       "      <td>90</td>\n",
       "      <td>US</td>\n",
       "      <td>1586897946</td>\n",
       "      <td>83</td>\n",
       "      <td>19.73</td>\n",
       "      <td>-155.09</td>\n",
       "      <td>75.20</td>\n",
       "      <td>8.05</td>\n",
       "    </tr>\n",
       "    <tr>\n",
       "      <th>13</th>\n",
       "      <td>san quintin</td>\n",
       "      <td>59</td>\n",
       "      <td>ML</td>\n",
       "      <td>1586898159</td>\n",
       "      <td>20</td>\n",
       "      <td>13.30</td>\n",
       "      <td>-4.90</td>\n",
       "      <td>97.05</td>\n",
       "      <td>4.47</td>\n",
       "    </tr>\n",
       "    <tr>\n",
       "      <th>14</th>\n",
       "      <td>hasaki</td>\n",
       "      <td>20</td>\n",
       "      <td>JP</td>\n",
       "      <td>1586898159</td>\n",
       "      <td>44</td>\n",
       "      <td>35.73</td>\n",
       "      <td>140.83</td>\n",
       "      <td>37.40</td>\n",
       "      <td>1.12</td>\n",
       "    </tr>\n",
       "    <tr>\n",
       "      <th>15</th>\n",
       "      <td>saskylakh</td>\n",
       "      <td>88</td>\n",
       "      <td>RU</td>\n",
       "      <td>1586898160</td>\n",
       "      <td>90</td>\n",
       "      <td>71.92</td>\n",
       "      <td>114.08</td>\n",
       "      <td>-2.31</td>\n",
       "      <td>15.77</td>\n",
       "    </tr>\n",
       "    <tr>\n",
       "      <th>16</th>\n",
       "      <td>dikson</td>\n",
       "      <td>22</td>\n",
       "      <td>RU</td>\n",
       "      <td>1586898160</td>\n",
       "      <td>94</td>\n",
       "      <td>73.51</td>\n",
       "      <td>80.55</td>\n",
       "      <td>5.97</td>\n",
       "      <td>9.93</td>\n",
       "    </tr>\n",
       "    <tr>\n",
       "      <th>17</th>\n",
       "      <td>punta arenas</td>\n",
       "      <td>0</td>\n",
       "      <td>PH</td>\n",
       "      <td>1586898160</td>\n",
       "      <td>82</td>\n",
       "      <td>8.99</td>\n",
       "      <td>125.34</td>\n",
       "      <td>75.52</td>\n",
       "      <td>5.66</td>\n",
       "    </tr>\n",
       "    <tr>\n",
       "      <th>18</th>\n",
       "      <td>alghero</td>\n",
       "      <td>0</td>\n",
       "      <td>IT</td>\n",
       "      <td>1586898160</td>\n",
       "      <td>86</td>\n",
       "      <td>40.56</td>\n",
       "      <td>8.32</td>\n",
       "      <td>56.52</td>\n",
       "      <td>6.04</td>\n",
       "    </tr>\n",
       "    <tr>\n",
       "      <th>19</th>\n",
       "      <td>busselton</td>\n",
       "      <td>67</td>\n",
       "      <td>AU</td>\n",
       "      <td>1586898160</td>\n",
       "      <td>59</td>\n",
       "      <td>-33.65</td>\n",
       "      <td>115.33</td>\n",
       "      <td>59.00</td>\n",
       "      <td>16.91</td>\n",
       "    </tr>\n",
       "  </tbody>\n",
       "</table>\n",
       "</div>"
      ],
      "text/plain": [
       "              City  Cloudiness County        Date  Humidity    Lat     Lng  \\\n",
       "0         cherskiy          82     RU  1586898155        95  68.75  161.30   \n",
       "1          ushuaia          40     AR  1586897973        70 -54.80  -68.30   \n",
       "2   saint-augustin          51     CA  1586898155        70  51.23  -58.65   \n",
       "3           mersin           1     TR  1586898156        71  36.86   34.65   \n",
       "4    mar del plata           3     ES  1586898156        82  43.40   -4.01   \n",
       "5        carnarvon          35     AU  1586898157        69 -24.87  113.63   \n",
       "6         linqiong           0     CN  1586898157       100  30.42  103.46   \n",
       "7           barrow          90     US  1586898157        85  71.29 -156.79   \n",
       "8              gat          40     IL  1586898102        82  31.61   34.76   \n",
       "9         hermanus           0     ZA  1586897871        92 -34.42   19.23   \n",
       "10      kaitangata          66     NZ  1586898159        79 -46.28  169.85   \n",
       "11         rikitea          74     PF  1586898159        65 -23.12 -134.97   \n",
       "12            hilo          90     US  1586897946        83  19.73 -155.09   \n",
       "13     san quintin          59     ML  1586898159        20  13.30   -4.90   \n",
       "14          hasaki          20     JP  1586898159        44  35.73  140.83   \n",
       "15       saskylakh          88     RU  1586898160        90  71.92  114.08   \n",
       "16          dikson          22     RU  1586898160        94  73.51   80.55   \n",
       "17    punta arenas           0     PH  1586898160        82   8.99  125.34   \n",
       "18         alghero           0     IT  1586898160        86  40.56    8.32   \n",
       "19       busselton          67     AU  1586898160        59 -33.65  115.33   \n",
       "\n",
       "    Max Temp  Wind Speed  \n",
       "0       8.13       10.25  \n",
       "1      48.20        5.70  \n",
       "2      40.03       18.37  \n",
       "3      57.20        3.62  \n",
       "4      59.00        5.82  \n",
       "5      73.40       17.22  \n",
       "6      55.40        2.19  \n",
       "7      12.20        5.82  \n",
       "8      64.40        2.24  \n",
       "9      62.01        7.16  \n",
       "10     48.00        5.01  \n",
       "11     76.44        6.76  \n",
       "12     75.20        8.05  \n",
       "13     97.05        4.47  \n",
       "14     37.40        1.12  \n",
       "15     -2.31       15.77  \n",
       "16      5.97        9.93  \n",
       "17     75.52        5.66  \n",
       "18     56.52        6.04  \n",
       "19     59.00       16.91  "
      ]
     },
     "execution_count": 6,
     "metadata": {},
     "output_type": "execute_result"
    }
   ],
   "source": [
    "weather_dataframe = pd.DataFrame(weather_dict)\n",
    "\n",
    "weather_dataframe.head(20)"
   ]
  },
  {
   "cell_type": "markdown",
   "metadata": {},
   "source": [
    "## Inspect the data and remove the cities where the humidity > 100%.\n",
    "----\n",
    "Skip this step if there are no cities that have humidity > 100%. "
   ]
  },
  {
   "cell_type": "code",
   "execution_count": 7,
   "metadata": {},
   "outputs": [
    {
     "data": {
      "text/plain": [
       "552"
      ]
     },
     "execution_count": 7,
     "metadata": {},
     "output_type": "execute_result"
    }
   ],
   "source": [
    "\n",
    "# Export the City_Data into a csv\n",
    "weather_dataframe.to_csv('weather_data.csv')\n",
    "\n",
    "count = len(weather_dataframe)\n",
    "count"
   ]
  },
  {
   "cell_type": "markdown",
   "metadata": {},
   "source": [
    "## Plotting the Data\n",
    "* Use proper labeling of the plots using plot titles (including date of analysis) and axes labels.\n",
    "* Save the plotted figures as .pngs."
   ]
  },
  {
   "cell_type": "markdown",
   "metadata": {},
   "source": [
    "## Latitude vs. Temperature Plot"
   ]
  },
  {
   "cell_type": "code",
   "execution_count": 11,
   "metadata": {
    "scrolled": true
   },
   "outputs": [
    {
     "data": {
      "image/png": "[encoded data removed]",
      "text/plain": [
       "<Figure size 432x288 with 1 Axes>"
      ]
     },
     "metadata": {
      "needs_background": "light"
     },
     "output_type": "display_data"
    }
   ],
   "source": [
    "scatlat = weather_dataframe['Lat']\n",
    "scattemp = weather_dataframe['Max Temp']\n",
    "\n",
    "plt.scatter(scatlat, scattemp)\n",
    "plt.title('Latitude vs. Max Temp')\n",
    "plt.xlabel('Latitude')\n",
    "plt.ylabel('Max Temperature (F)')\n",
    "plt.savefig('Scatter_LatvMaxTemp')\n",
    "plt.show()"
   ]
  },
  {
   "cell_type": "markdown",
   "metadata": {},
   "source": [
    "## Latitude vs. Humidity Plot"
   ]
  },
  {
   "cell_type": "code",
   "execution_count": 12,
   "metadata": {},
   "outputs": [
    {
     "data": {
      "image/png": "[encoded data removed]",
      "text/plain": [
       "<Figure size 432x288 with 1 Axes>"
      ]
     },
     "metadata": {
      "needs_background": "light"
     },
     "output_type": "display_data"
    }
   ],
   "source": [
    "scathumid = weather_dataframe['Humidity']\n",
    "\n",
    "plt.scatter(scatlat,scathumid)\n",
    "plt.title('Latitude vs. Humidity')\n",
    "plt.xlabel('Latitude')\n",
    "plt.ylabel('Humidity (%)')\n",
    "plt.savefig('Scater_LatvHumidity')\n",
    "plt.show()"
   ]
  },
  {
   "cell_type": "markdown",
   "metadata": {},
   "source": [
    "## Latitude vs. Cloudiness Plot"
   ]
  },
  {
   "cell_type": "code",
   "execution_count": 13,
   "metadata": {},
   "outputs": [
    {
     "data": {
      "image/png": "[encoded data removed]",
      "text/plain": [
       "<Figure size 432x288 with 1 Axes>"
      ]
     },
     "metadata": {
      "needs_background": "light"
     },
     "output_type": "display_data"
    }
   ],
   "source": [
    "scatcloud = weather_dataframe['Cloudiness']\n",
    "\n",
    "plt.scatter(scatlat,scatcloud)\n",
    "plt.title('Latitude vs. Cloudiness')\n",
    "plt.xlabel('Latitude')\n",
    "plt.ylabel('Cloudiness (%)')\n",
    "plt.savefig('Scater_LatvCloudiness')\n",
    "plt.show()"
   ]
  },
  {
   "cell_type": "markdown",
   "metadata": {},
   "source": [
    "## Latitude vs. Wind Speed Plot"
   ]
  },
  {
   "cell_type": "code",
   "execution_count": 14,
   "metadata": {},
   "outputs": [
    {
     "data": {
      "image/png": "[encoded data removed]",
      "text/plain": [
       "<Figure size 432x288 with 1 Axes>"
      ]
     },
     "metadata": {
      "needs_background": "light"
     },
     "output_type": "display_data"
    }
   ],
   "source": [
    "scatwind = weather_dataframe['Wind Speed']\n",
    "\n",
    "plt.scatter(scatlat,scatwind)\n",
    "plt.title('Latitude vs. Wind Speed')\n",
    "plt.xlabel('Latitude')\n",
    "plt.ylabel('Wind Speed (mph)')\n",
    "plt.savefig('Scater_LatvWindSpeed')\n",
    "plt.show()"
   ]
  },
  {
   "cell_type": "markdown",
   "metadata": {},
   "source": [
    "## Linear Regression"
   ]
  },
  {
   "cell_type": "code",
   "execution_count": 15,
   "metadata": {},
   "outputs": [],
   "source": [
    "# OPTIONAL: Create a function to create Linear Regression plots\n"
   ]
  },
  {
   "cell_type": "code",
   "execution_count": 16,
   "metadata": {},
   "outputs": [
    {
     "data": {
      "text/html": [
       "<div>\n",
       "<style scoped>\n",
       "    .dataframe tbody tr th:only-of-type {\n",
       "        vertical-align: middle;\n",
       "    }\n",
       "\n",
       "    .dataframe tbody tr th {\n",
       "        vertical-align: top;\n",
       "    }\n",
       "\n",
       "    .dataframe thead th {\n",
       "        text-align: right;\n",
       "    }\n",
       "</style>\n",
       "<table border=\"1\" class=\"dataframe\">\n",
       "  <thead>\n",
       "    <tr style=\"text-align: right;\">\n",
       "      <th></th>\n",
       "      <th>City</th>\n",
       "      <th>Cloudiness</th>\n",
       "      <th>County</th>\n",
       "      <th>Date</th>\n",
       "      <th>Humidity</th>\n",
       "      <th>Lat</th>\n",
       "      <th>Lng</th>\n",
       "      <th>Max Temp</th>\n",
       "      <th>Wind Speed</th>\n",
       "    </tr>\n",
       "  </thead>\n",
       "  <tbody>\n",
       "    <tr>\n",
       "      <th>1</th>\n",
       "      <td>ushuaia</td>\n",
       "      <td>40</td>\n",
       "      <td>AR</td>\n",
       "      <td>1586897973</td>\n",
       "      <td>70</td>\n",
       "      <td>-54.80</td>\n",
       "      <td>-68.30</td>\n",
       "      <td>48.20</td>\n",
       "      <td>5.70</td>\n",
       "    </tr>\n",
       "    <tr>\n",
       "      <th>5</th>\n",
       "      <td>carnarvon</td>\n",
       "      <td>35</td>\n",
       "      <td>AU</td>\n",
       "      <td>1586898157</td>\n",
       "      <td>69</td>\n",
       "      <td>-24.87</td>\n",
       "      <td>113.63</td>\n",
       "      <td>73.40</td>\n",
       "      <td>17.22</td>\n",
       "    </tr>\n",
       "    <tr>\n",
       "      <th>9</th>\n",
       "      <td>hermanus</td>\n",
       "      <td>0</td>\n",
       "      <td>ZA</td>\n",
       "      <td>1586897871</td>\n",
       "      <td>92</td>\n",
       "      <td>-34.42</td>\n",
       "      <td>19.23</td>\n",
       "      <td>62.01</td>\n",
       "      <td>7.16</td>\n",
       "    </tr>\n",
       "    <tr>\n",
       "      <th>10</th>\n",
       "      <td>kaitangata</td>\n",
       "      <td>66</td>\n",
       "      <td>NZ</td>\n",
       "      <td>1586898159</td>\n",
       "      <td>79</td>\n",
       "      <td>-46.28</td>\n",
       "      <td>169.85</td>\n",
       "      <td>48.00</td>\n",
       "      <td>5.01</td>\n",
       "    </tr>\n",
       "    <tr>\n",
       "      <th>11</th>\n",
       "      <td>rikitea</td>\n",
       "      <td>74</td>\n",
       "      <td>PF</td>\n",
       "      <td>1586898159</td>\n",
       "      <td>65</td>\n",
       "      <td>-23.12</td>\n",
       "      <td>-134.97</td>\n",
       "      <td>76.44</td>\n",
       "      <td>6.76</td>\n",
       "    </tr>\n",
       "  </tbody>\n",
       "</table>\n",
       "</div>"
      ],
      "text/plain": [
       "          City  Cloudiness County        Date  Humidity    Lat     Lng  \\\n",
       "1      ushuaia          40     AR  1586897973        70 -54.80  -68.30   \n",
       "5    carnarvon          35     AU  1586898157        69 -24.87  113.63   \n",
       "9     hermanus           0     ZA  1586897871        92 -34.42   19.23   \n",
       "10  kaitangata          66     NZ  1586898159        79 -46.28  169.85   \n",
       "11     rikitea          74     PF  1586898159        65 -23.12 -134.97   \n",
       "\n",
       "    Max Temp  Wind Speed  \n",
       "1      48.20        5.70  \n",
       "5      73.40       17.22  \n",
       "9      62.01        7.16  \n",
       "10     48.00        5.01  \n",
       "11     76.44        6.76  "
      ]
     },
     "execution_count": 16,
     "metadata": {},
     "output_type": "execute_result"
    }
   ],
   "source": [
    "# Create Northern and Southern Hemisphere DataFrames\n",
    "northern_hemi = weather_dataframe.loc[weather_dataframe['Lat']>0.01]\n",
    "southern_hemi = weather_dataframe.loc[weather_dataframe['Lat']<-0.01]\n",
    "\n",
    "#northern_hemi.head()\n",
    "southern_hemi.head()"
   ]
  },
  {
   "cell_type": "markdown",
   "metadata": {},
   "source": [
    "####  Northern Hemisphere - Max Temp vs. Latitude Linear Regression"
   ]
  },
  {
   "cell_type": "code",
   "execution_count": 17,
   "metadata": {},
   "outputs": [
    {
     "data": {
      "image/png": "[encoded data removed]",
      "text/plain": [
       "<Figure size 432x288 with 1 Axes>"
      ]
     },
     "metadata": {
      "needs_background": "light"
     },
     "output_type": "display_data"
    },
    {
     "data": {
      "text/plain": [
       "<Figure size 432x288 with 0 Axes>"
      ]
     },
     "metadata": {},
     "output_type": "display_data"
    }
   ],
   "source": [
    "x_values = northern_hemi['Lat']\n",
    "y_values = northern_hemi['Max Temp']\n",
    "(slope, intercept, rvalue, pvalue, stderr) = linregress(x_values, y_values)\n",
    "regress_values = x_values * slope + intercept\n",
    "line_eq = \"y = \" + str(round(slope,2)) + \"x + \" + str(round(intercept,2))\n",
    "plt.scatter(x_values,y_values)\n",
    "plt.plot(x_values,regress_values,\"red\")\n",
    "plt.annotate(line_eq,(5,10),fontsize=15,color=\"red\")\n",
    "\n",
    "plt.ylim(0,100)\n",
    "plt.xlim(0, 80)\n",
    "\n",
    "plt.ylabel(\"Max. Temp\")\n",
    "plt.xlabel(\"Latitude\")\n",
    "plt.show()\n",
    "\n",
    "plt.savefig('NorthernLinearRegression.png')"
   ]
  },
  {
   "cell_type": "markdown",
   "metadata": {},
   "source": [
    "####  Southern Hemisphere - Max Temp vs. Latitude Linear Regression"
   ]
  },
  {
   "cell_type": "code",
   "execution_count": 18,
   "metadata": {},
   "outputs": [
    {
     "data": {
      "image/png": "[encoded data removed]",
      "text/plain": [
       "<Figure size 432x288 with 1 Axes>"
      ]
     },
     "metadata": {
      "needs_background": "light"
     },
     "output_type": "display_data"
    },
    {
     "data": {
      "text/plain": [
       "<Figure size 432x288 with 0 Axes>"
      ]
     },
     "metadata": {},
     "output_type": "display_data"
    }
   ],
   "source": [
    "x_values = southern_hemi['Lat']\n",
    "y_values = southern_hemi['Max Temp']\n",
    "(slope, intercept, rvalue, pvalue, stderr) = linregress(x_values, y_values)\n",
    "regress_values = x_values * slope + intercept\n",
    "line_eq = \"y = \" + str(round(slope,2)) + \"x + \" + str(round(intercept,2))\n",
    "plt.scatter(x_values,y_values)\n",
    "plt.plot(x_values,regress_values,\"red\")\n",
    "plt.annotate(line_eq,(-30,50),fontsize=15,color=\"red\")\n",
    "\n",
    "plt.ylim(30, 100)\n",
    "plt.xlim(-60, 0, 10)\n",
    "\n",
    "plt.ylabel(\"Max. Temp\")\n",
    "plt.xlabel(\"Latitude\")\n",
    "plt.show()\n",
    "\n",
    "plt.savefig('SouthernLinearRegression.png')"
   ]
  },
  {
   "cell_type": "markdown",
   "metadata": {},
   "source": [
    "####  Northern Hemisphere - Humidity (%) vs. Latitude Linear Regression"
   ]
  },
  {
   "cell_type": "code",
   "execution_count": 19,
   "metadata": {},
   "outputs": [
    {
     "data": {
      "image/png": "[encoded data removed]",
      "text/plain": [
       "<Figure size 432x288 with 1 Axes>"
      ]
     },
     "metadata": {
      "needs_background": "light"
     },
     "output_type": "display_data"
    },
    {
     "data": {
      "text/plain": [
       "<Figure size 432x288 with 0 Axes>"
      ]
     },
     "metadata": {},
     "output_type": "display_data"
    }
   ],
   "source": [
    "x_values = northern_hemi['Lat']\n",
    "y_values = northern_hemi['Humidity']\n",
    "(slope, intercept, rvalue, pvalue, stderr) = linregress(x_values, y_values)\n",
    "regress_values = x_values * slope + intercept\n",
    "line_eq = \"y = \" + str(round(slope,2)) + \"x + \" + str(round(intercept,2))\n",
    "plt.scatter(x_values,y_values)\n",
    "plt.plot(x_values,regress_values,\"r-\")\n",
    "plt.annotate(line_eq,(40,10),fontsize=15,color=\"red\")\n",
    "plt.ylabel(\"Humidity\")\n",
    "plt.xlabel(\"Latitude\")\n",
    "plt.show()\n",
    "\n",
    "plt.savefig(\"NorthernHumidityLinearRegression.png\")"
   ]
  },
  {
   "cell_type": "markdown",
   "metadata": {},
   "source": [
    "####  Southern Hemisphere - Humidity (%) vs. Latitude Linear Regression"
   ]
  },
  {
   "cell_type": "code",
   "execution_count": 20,
   "metadata": {},
   "outputs": [
    {
     "data": {
      "image/png": "[encoded data removed]",
      "text/plain": [
       "<Figure size 432x288 with 1 Axes>"
      ]
     },
     "metadata": {
      "needs_background": "light"
     },
     "output_type": "display_data"
    },
    {
     "data": {
      "text/plain": [
       "<Figure size 432x288 with 0 Axes>"
      ]
     },
     "metadata": {},
     "output_type": "display_data"
    }
   ],
   "source": [
    "x_values = southern_hemi['Lat']\n",
    "y_values = southern_hemi['Humidity']\n",
    "(slope, intercept, rvalue, pvalue, stderr) = linregress(x_values, y_values)\n",
    "regress_values = x_values * slope + intercept\n",
    "line_eq = \"y = \" + str(round(slope,2)) + \"x + \" + str(round(intercept,2))\n",
    "plt.scatter(x_values,y_values)\n",
    "plt.plot(x_values,regress_values,\"r-\")\n",
    "plt.annotate(line_eq,(-25,10),fontsize=15,color=\"red\")\n",
    "plt.ylabel(\"Humidity\")\n",
    "plt.xlabel(\"Latitude\")\n",
    "plt.show()\n",
    "\n",
    "plt.savefig(\"SouthernHumidityLinearRegression.png\")"
   ]
  },
  {
   "cell_type": "markdown",
   "metadata": {},
   "source": [
    "####  Northern Hemisphere - Cloudiness (%) vs. Latitude Linear Regression"
   ]
  },
  {
   "cell_type": "code",
   "execution_count": 21,
   "metadata": {},
   "outputs": [
    {
     "data": {
      "image/png": "[encoded data removed]",
      "text/plain": [
       "<Figure size 432x288 with 1 Axes>"
      ]
     },
     "metadata": {
      "needs_background": "light"
     },
     "output_type": "display_data"
    },
    {
     "data": {
      "text/plain": [
       "<Figure size 432x288 with 0 Axes>"
      ]
     },
     "metadata": {},
     "output_type": "display_data"
    }
   ],
   "source": [
    "x_values = northern_hemi['Lat']\n",
    "y_values = northern_hemi['Cloudiness']\n",
    "(slope, intercept, rvalue, pvalue, stderr) = linregress(x_values, y_values)\n",
    "regress_values = x_values * slope + intercept\n",
    "line_eq = \"y = \" + str(round(slope,2)) + \"x + \" + str(round(intercept,2))\n",
    "plt.scatter(x_values,y_values)\n",
    "plt.plot(x_values,regress_values,\"r-\")\n",
    "plt.annotate(line_eq,(6,10),fontsize=15,color=\"red\")\n",
    "plt.ylabel(\"Cloudiness\")\n",
    "plt.xlabel(\"Latitude\")\n",
    "plt.show()\n",
    "\n",
    "plt.savefig(\"NorthernCloudinessLinearRegression.png\")"
   ]
  },
  {
   "cell_type": "markdown",
   "metadata": {},
   "source": [
    "####  Southern Hemisphere - Cloudiness (%) vs. Latitude Linear Regression"
   ]
  },
  {
   "cell_type": "code",
   "execution_count": 22,
   "metadata": {},
   "outputs": [
    {
     "data": {
      "image/png": "[encoded data removed]",
      "text/plain": [
       "<Figure size 432x288 with 1 Axes>"
      ]
     },
     "metadata": {
      "needs_background": "light"
     },
     "output_type": "display_data"
    }
   ],
   "source": [
    "x_values = northern_hemi['Lat']\n",
    "y_values = northern_hemi['Cloudiness']\n",
    "(slope, intercept, rvalue, pvalue, stderr) = linregress(x_values, y_values)\n",
    "regress_values = x_values * slope + intercept\n",
    "line_eq = \"y = \" + str(round(slope,2)) + \"x + \" + str(round(intercept,2))\n",
    "plt.scatter(x_values,y_values)\n",
    "plt.plot(x_values,regress_values,\"r-\")\n",
    "plt.annotate(line_eq,(6,10),fontsize=15,color=\"red\")\n",
    "plt.ylabel(\"Cloudiness\")\n",
    "plt.xlabel(\"Latitude\")\n",
    "plt.show()\n",
    "\n",
    "#plt.savefig(\"NorthernCloudinessLinearRegression.png\")"
   ]
  },
  {
   "cell_type": "markdown",
   "metadata": {},
   "source": [
    "####  Northern Hemisphere - Wind Speed (mph) vs. Latitude Linear Regression"
   ]
  },
  {
   "cell_type": "code",
   "execution_count": 23,
   "metadata": {},
   "outputs": [
    {
     "data": {
      "image/png": "[encoded data removed]",
      "text/plain": [
       "<Figure size 432x288 with 1 Axes>"
      ]
     },
     "metadata": {
      "needs_background": "light"
     },
     "output_type": "display_data"
    },
    {
     "data": {
      "text/plain": [
       "<Figure size 432x288 with 0 Axes>"
      ]
     },
     "metadata": {},
     "output_type": "display_data"
    }
   ],
   "source": [
    "x_values = northern_hemi['Lat']\n",
    "y_values = northern_hemi['Wind Speed']\n",
    "(slope, intercept, rvalue, pvalue, stderr) = linregress(x_values, y_values)\n",
    "regress_values = x_values * slope + intercept\n",
    "line_eq = \"y = \" + str(round(slope,2)) + \"x + \" + str(round(intercept,2))\n",
    "plt.scatter(x_values,y_values)\n",
    "plt.plot(x_values,regress_values,\"r-\")\n",
    "plt.annotate(line_eq,(45,35),fontsize=15,color=\"red\")\n",
    "plt.ylabel(\"Cloudiness\")\n",
    "plt.xlabel(\"Latitude\")\n",
    "plt.show()\n",
    "\n",
    "plt.savefig(\"NorthernWindSpeedLinearRegression.png\")"
   ]
  },
  {
   "cell_type": "markdown",
   "metadata": {},
   "source": [
    "####  Southern Hemisphere - Wind Speed (mph) vs. Latitude Linear Regression"
   ]
  },
  {
   "cell_type": "code",
   "execution_count": 24,
   "metadata": {},
   "outputs": [
    {
     "data": {
      "image/png": "[encoded data removed]",
      "text/plain": [
       "<Figure size 432x288 with 1 Axes>"
      ]
     },
     "metadata": {
      "needs_background": "light"
     },
     "output_type": "display_data"
    },
    {
     "data": {
      "text/plain": [
       "<Figure size 432x288 with 0 Axes>"
      ]
     },
     "metadata": {},
     "output_type": "display_data"
    }
   ],
   "source": [
    "x_values = southern_hemi['Lat']\n",
    "y_values = southern_hemi['Wind Speed']\n",
    "(slope, intercept, rvalue, pvalue, stderr) = linregress(x_values, y_values)\n",
    "regress_values = x_values * slope + intercept\n",
    "line_eq = \"y = \" + str(round(slope,2)) + \"x + \" + str(round(intercept,2))\n",
    "plt.scatter(x_values,y_values)\n",
    "plt.plot(x_values,regress_values,\"r-\")\n",
    "plt.annotate(line_eq,(-50,20),fontsize=15,color=\"red\")\n",
    "plt.ylabel(\"Wind Speed\")\n",
    "plt.xlabel(\"Latitude\")\n",
    "plt.show()\n",
    "\n",
    "plt.savefig(\"SouthernWindSpeedLinearRegression.png\")"
   ]
  },
  {
   "cell_type": "code",
   "execution_count": null,
   "metadata": {},
   "outputs": [],
   "source": []
  }
 ],
 "metadata": {
  "anaconda-cloud": {},
  "kernel_info": {
   "name": "python3"
  },
  "kernelspec": {
   "display_name": "Python 3",
   "language": "python",
   "name": "python3"
  },
  "language_info": {
   "codemirror_mode": {
    "name": "ipython",
    "version": 3
   },
   "file_extension": ".py",
   "mimetype": "text/x-python",
   "name": "python",
   "nbconvert_exporter": "python",
   "pygments_lexer": "ipython3",
   "version": "3.6.10"
  },
  "latex_envs": {
   "LaTeX_envs_menu_present": true,
   "autoclose": false,
   "autocomplete": true,
   "bibliofile": "biblio.bib",
   "cite_by": "apalike",
   "current_citInitial": 1,
   "eqLabelWithNumbers": true,
   "eqNumInitial": 1,
   "hotkeys": {
    "equation": "Ctrl-E",
    "itemize": "Ctrl-I"
   },
   "labels_anchors": false,
   "latex_user_defs": false,
   "report_style_numbering": false,
   "user_envs_cfg": false
  },
  "nteract": {
   "version": "0.12.3"
  }
 },
 "nbformat": 4,
 "nbformat_minor": 2
}
